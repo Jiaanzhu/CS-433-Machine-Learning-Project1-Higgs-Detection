{
 "cells": [
  {
   "cell_type": "code",
   "execution_count": 106,
   "metadata": {
    "scrolled": true
   },
   "outputs": [
    {
     "name": "stdout",
     "output_type": "stream",
     "text": [
      "The autoreload extension is already loaded. To reload it, use:\n",
      "  %reload_ext autoreload\n"
     ]
    }
   ],
   "source": [
    "# Useful starting lines\n",
    "%matplotlib inline\n",
    "import numpy as np\n",
    "import matplotlib.pyplot as plt\n",
    "import datetime\n",
    "\n",
    "%load_ext autoreload\n",
    "%autoreload 2"
   ]
  },
  {
   "cell_type": "markdown",
   "metadata": {},
   "source": [
    "## Load the training data into feature matrix, class labels, and event ids:"
   ]
  },
  {
   "cell_type": "code",
   "execution_count": 105,
   "metadata": {
    "scrolled": true
   },
   "outputs": [],
   "source": [
    "from proj1_helpers import *\n",
    "from implementations import *\n",
    "\n",
    "# Use your own path here!\n",
    "DATA_TRAIN_PATH = '/Users/jiaanzhu/Desktop/MLProject1/train.csv' # TODO: download train data and supply path here \n",
    "y, tX, ids = load_csv_data(DATA_TRAIN_PATH)"
   ]
  },
  {
   "cell_type": "code",
   "execution_count": 107,
   "metadata": {},
   "outputs": [],
   "source": [
    "'''\n",
    "#LOOK AT DATA\n",
    "for i in range(tX.shape[1]):\n",
    "    plt.figure()\n",
    "    plt.plot(tX[:,i])\n",
    "    plt.show()\n",
    "'''\n",
    "tx = tX.copy() # Make a copy of original data"
   ]
  },
  {
   "cell_type": "code",
   "execution_count": null,
   "metadata": {},
   "outputs": [],
   "source": [
    "# Dealing with outliers below"
   ]
  },
  {
   "cell_type": "code",
   "execution_count": null,
   "metadata": {},
   "outputs": [],
   "source": []
  },
  {
   "cell_type": "code",
   "execution_count": null,
   "metadata": {},
   "outputs": [],
   "source": [
    "# Dealing with -999 below"
   ]
  },
  {
   "cell_type": "code",
   "execution_count": 108,
   "metadata": {},
   "outputs": [],
   "source": [
    "# Replace -999.0 with mean of each column\n",
    "\n",
    "tx = np.where(tX == -999, np.ma.array(tX, mask= (tX == -999)).mean(axis=0), tX) \n",
    "\n",
    "# Replace -999.0 with median of each column\n",
    "\n",
    "'''\n",
    "# Replace -999 with nan\n",
    "tx = np.where(tX != -999, tX, np.nan)\n",
    "# column median\n",
    "col_median = np.nanmedian(tx, axis = 0)\n",
    "# find indices where nan value is present \n",
    "inds_train = np.where(np.isnan(tx))\n",
    "# replace inds with median of column \n",
    "tx[inds_train] = np.take(col_median, inds_train[1])\n",
    "'''\n",
    "\n",
    "# Remove columns contain -999\n",
    "\n",
    "'''\n",
    "# tx = tX[:, ~np.any(tX == -999, axis=0)]\n",
    "'''\n",
    "\n",
    "# Remove columns with number of NaNs > 50%, then replace -999.0 with mean of each column\n",
    "\n",
    "'''\n",
    "# remove_index = np.argwhere(np.count_nonzero(tX == -999, axis=0) > tX.shape[0]/2)\n",
    "# tX2 = np.delete(tX, remove_index, 1)\n",
    "# tx = np.where(tX2 == -999, np.ma.array(tX2, mask= (tX2 == -999)).mean(axis=0), tX2) \n",
    "'''\n",
    "\n",
    "#extra code\n",
    "# np.count_nonzero(tX == -999, axis=0)\n",
    "# tx = np.where(tX != -999, tX, np.nan)  # Replace -999 with nan\n",
    "# tx = np.where(np.isnan(tx), np.ma.array(tx, mask=np.isnan(tx)).mean(axis=0), tx)  # Replace nan with mean of each column"
   ]
  },
  {
   "cell_type": "code",
   "execution_count": 109,
   "metadata": {},
   "outputs": [
    {
     "name": "stdout",
     "output_type": "stream",
     "text": [
      "Gradient Descent: execution time=175.150 seconds\n"
     ]
    }
   ],
   "source": [
    "# Define the parameters of the algorithm.\n",
    "max_iters = 10000\n",
    "gamma = 0.0000001\n",
    "\n",
    "# Initialization\n",
    "w_initial = np.zeros(tx.shape[1])\n",
    "\n",
    "# Start gradient descent.\n",
    "start_time = datetime.datetime.now()\n",
    "gradient_losses, gradient_ws = gradient_descent(y, tx, w_initial, max_iters, gamma)\n",
    "end_time = datetime.datetime.now()\n",
    "\n",
    "# Print result\n",
    "exection_time = (end_time - start_time).total_seconds()\n",
    "print(\"Gradient Descent: execution time={t:.3f} seconds\".format(t=exection_time))\n"
   ]
  },
  {
   "cell_type": "code",
   "execution_count": 237,
   "metadata": {},
   "outputs": [
    {
     "name": "stdout",
     "output_type": "stream",
     "text": [
      "SGD: execution time=347.962 seconds\n"
     ]
    }
   ],
   "source": [
    "# Define the parameters of the algorithm.\n",
    "max_iters = 5000\n",
    "gamma = 0.00000005\n",
    "batch_size = 1\n",
    "\n",
    "# Initialization\n",
    "w_initial = np.zeros(tx.shape[1])\n",
    "\n",
    "# Start SGD.\n",
    "start_time = datetime.datetime.now()\n",
    "sgd_losses, sgd_ws = stochastic_gradient_descent(\n",
    "    y, tx, w_initial, batch_size, max_iters, gamma)\n",
    "end_time = datetime.datetime.now()\n",
    "\n",
    "# Print result\n",
    "exection_time = (end_time - start_time).total_seconds()\n",
    "print(\"SGD: execution time={t:.3f} seconds\".format(t=exection_time))\n"
   ]
  },
  {
   "cell_type": "code",
   "execution_count": 110,
   "metadata": {
    "scrolled": false
   },
   "outputs": [
    {
     "name": "stdout",
     "output_type": "stream",
     "text": [
      "[ 1.59378457e-04 -6.42214392e-03 -4.29387625e-04  2.12448443e-03\n",
      " -1.77910182e-05  6.40398423e-04 -9.28822399e-05 -2.09665312e-05\n",
      " -9.30198267e-04  8.22870919e-04 -1.44505930e-04  1.68940996e-04\n",
      "  2.99724882e-06  2.12523248e-03 -8.94651856e-07 -7.74018637e-06\n",
      " -1.20231314e-03  5.02498428e-07  5.05587291e-06 -1.05195845e-03\n",
      "  7.05964374e-06 -6.23229928e-04 -7.76648501e-06 -1.40535232e-03\n",
      "  3.01976748e-07  2.58619697e-06 -2.12300084e-03  1.84506003e-06\n",
      " -2.26645671e-06 -1.00047361e-04]\n",
      "[0.3731418161900824, 0.37314054622841036, 0.37313927655967793, 0.373138007183802, 0.37313673810070025, 0.3731354693102901, 0.3731342008124891, 0.37313293260721436, 0.3731316646943834]\n"
     ]
    }
   ],
   "source": [
    "weights_sd = gradient_ws[-1] # Weights for gd\n",
    "print(weights_sd) \n",
    "print(gradient_losses[-10:-1]) # Show changes in losses\n"
   ]
  },
  {
   "cell_type": "code",
   "execution_count": 249,
   "metadata": {
    "scrolled": false
   },
   "outputs": [
    {
     "name": "stdout",
     "output_type": "stream",
     "text": [
      "[ 5.90549078e-04 -9.58116008e-03 -1.57468699e-03 -1.87386785e-05\n",
      "  2.44737085e-05  6.45748734e-04 -4.81297826e-04  3.33753197e-04\n",
      " -1.09586701e-03  3.07880833e-03 -4.82771114e-04  9.13585130e-04\n",
      "  9.82922197e-05  5.02659450e-03 -1.23013153e-05 -7.06457549e-05\n",
      "  6.17499917e-05 -1.39671849e-05  5.37096929e-05  1.89511935e-03\n",
      "  2.81289492e-05 -5.96090204e-04 -1.88086946e-04 -2.17920515e-03\n",
      "  2.22606986e-06  1.88298148e-05 -5.24419198e-03  1.62330800e-05\n",
      " -2.00593225e-05 -2.00952830e-03]\n",
      "[0.4078056083708234, 0.4090425079685934, 0.4084078648552148, 0.4091488751615451, 0.40847047593963726, 0.407753567657346, 0.40850189190329494, 0.40945857141931796, 0.40880194023235056]\n"
     ]
    }
   ],
   "source": [
    "weights_sgd = sgd_ws[-1] # Weights for sgd\n",
    "print(weights)\n",
    "print(sgd_losses[-10:-1]) # Show changes in losses"
   ]
  },
  {
   "cell_type": "markdown",
   "metadata": {},
   "source": [
    "## Generate predictions and save ouput in csv format for submission:"
   ]
  },
  {
   "cell_type": "code",
   "execution_count": 111,
   "metadata": {},
   "outputs": [],
   "source": [
    "# Use your own path here!\n",
    "DATA_TEST_PATH = '/Users/jiaanzhu/Desktop/MLProject1/test.csv' # TODO: download train data and supply path here \n",
    "_, tX_test, ids_test = load_csv_data(DATA_TEST_PATH)"
   ]
  },
  {
   "cell_type": "code",
   "execution_count": 112,
   "metadata": {},
   "outputs": [],
   "source": [
    "#Replace -999.0 with mean of each column\n",
    "#tX_test2 = np.delete(tX_test, remove_index, 1)\n",
    "tx_test = tX_test.copy() # Make a copy\n",
    "# Replace -999 with nan\n",
    "tx_test = np.where(tx_test != -999, tx_test, np.nan)\n",
    "# find indices where nan value is present\n",
    "inds_test = np.where(np.isnan(tx_test))\n",
    "# replace inds with avg of column \n",
    "tx_test[inds_test] = np.take(col_median, inds_test[1])\n",
    "# Remove columns contain -999\n",
    "# tx_test = tX_test[:, ~np.any(tX_test == -999, axis=0)]"
   ]
  },
  {
   "cell_type": "code",
   "execution_count": 113,
   "metadata": {},
   "outputs": [],
   "source": [
    "# Use your own path here!\n",
    "OUTPUT_PATH = '/Users/jiaanzhu/Desktop/MLProject1/submission.csv' # TODO: fill in desired name of output file for submission\n",
    "y_pred = predict_labels(weights_sd, tx_test) # Use deifferent weights here\n",
    "create_csv_submission(ids_test, y_pred, OUTPUT_PATH)"
   ]
  },
  {
   "cell_type": "code",
   "execution_count": null,
   "metadata": {},
   "outputs": [],
   "source": []
  },
  {
   "cell_type": "code",
   "execution_count": null,
   "metadata": {},
   "outputs": [],
   "source": [
    "'''\n",
    "Test codes below\n",
    "'''"
   ]
  },
  {
   "cell_type": "code",
   "execution_count": 39,
   "metadata": {
    "scrolled": false
   },
   "outputs": [
    {
     "name": "stdout",
     "output_type": "stream",
     "text": [
      "[ 38114      0      0      0 177457 177457 177457      0      0      0\n",
      "      0      0 177457      0      0      0      0      0      0      0\n",
      "      0      0      0  99913  99913  99913 177457 177457 177457      0]\n"
     ]
    }
   ],
   "source": [
    "print(np.count_nonzero(tX == -999, axis=0)) "
   ]
  },
  {
   "cell_type": "code",
   "execution_count": 201,
   "metadata": {},
   "outputs": [
    {
     "data": {
      "text/plain": [
       "(250000, 30)"
      ]
     },
     "execution_count": 201,
     "metadata": {},
     "output_type": "execute_result"
    }
   ],
   "source": [
    "tx.shape"
   ]
  },
  {
   "cell_type": "code",
   "execution_count": 297,
   "metadata": {
    "scrolled": false
   },
   "outputs": [
    {
     "data": {
      "text/plain": [
       "(250000, 28)"
      ]
     },
     "execution_count": 297,
     "metadata": {},
     "output_type": "execute_result"
    }
   ],
   "source": [
    "tX2.shape"
   ]
  },
  {
   "cell_type": "code",
   "execution_count": 193,
   "metadata": {},
   "outputs": [],
   "source": [
    "tx = tX[:, ~np.any(tX == -999, axis=0)] # Remove columns contain -999"
   ]
  },
  {
   "cell_type": "code",
   "execution_count": 22,
   "metadata": {},
   "outputs": [
    {
     "name": "stdout",
     "output_type": "stream",
     "text": [
      "85667\n"
     ]
    }
   ],
   "source": [
    "print(np.count_nonzero(y == 1)) "
   ]
  },
  {
   "cell_type": "code",
   "execution_count": 246,
   "metadata": {},
   "outputs": [
    {
     "data": {
      "text/plain": [
       "(568238, 30)"
      ]
     },
     "execution_count": 246,
     "metadata": {},
     "output_type": "execute_result"
    }
   ],
   "source": [
    "tx_test.shape"
   ]
  },
  {
   "cell_type": "code",
   "execution_count": 45,
   "metadata": {
    "scrolled": true
   },
   "outputs": [
    {
     "name": "stdout",
     "output_type": "stream",
     "text": [
      "0\n"
     ]
    }
   ],
   "source": [
    "print(np.count_nonzero(inds == -999, axis=0)) "
   ]
  },
  {
   "cell_type": "code",
   "execution_count": 225,
   "metadata": {},
   "outputs": [
    {
     "data": {
      "text/plain": [
       "7500000"
      ]
     },
     "execution_count": 225,
     "metadata": {},
     "output_type": "execute_result"
    }
   ],
   "source": [
    "np.count_nonzero(tx == ty)"
   ]
  },
  {
   "cell_type": "code",
   "execution_count": 293,
   "metadata": {},
   "outputs": [
    {
     "data": {
      "text/plain": [
       "array([ 38114,      0,      0,      0, 177457, 177457, 177457,      0,\n",
       "            0,      0,      0,      0, 177457,      0,      0,      0,\n",
       "            0,      0,      0,      0,      0,      0,      0,  99913,\n",
       "        99913,  99913, 177457, 177457, 177457,      0])"
      ]
     },
     "execution_count": 293,
     "metadata": {},
     "output_type": "execute_result"
    }
   ],
   "source": [
    "np.count_nonzero(tX == -999, axis=0)"
   ]
  },
  {
   "cell_type": "code",
   "execution_count": 294,
   "metadata": {},
   "outputs": [
    {
     "data": {
      "text/plain": [
       "array([False, False, False, False,  True,  True,  True, False, False,\n",
       "       False, False, False,  True, False, False, False, False, False,\n",
       "       False, False, False, False, False, False, False, False,  True,\n",
       "        True,  True, False])"
      ]
     },
     "execution_count": 294,
     "metadata": {},
     "output_type": "execute_result"
    }
   ],
   "source": [
    "np.count_nonzero(tX == -999, axis=0) > 125000"
   ]
  },
  {
   "cell_type": "code",
   "execution_count": 267,
   "metadata": {},
   "outputs": [
    {
     "name": "stdout",
     "output_type": "stream",
     "text": [
      "[     0      0      0      0 402796      0      0      0      0      0\n",
      "      0      0      0      0      0      0      0      0      0      0\n",
      "      0      0      0      0      0      0      0      0      0      0]\n"
     ]
    }
   ],
   "source": [
    "print(np.count_nonzero(tx_test == 2.4037350261224666, axis=0)) "
   ]
  },
  {
   "cell_type": "code",
   "execution_count": 102,
   "metadata": {
    "scrolled": false
   },
   "outputs": [
    {
     "name": "stdout",
     "output_type": "stream",
     "text": [
      "[0 0 0 0 0 0 0 0 0 0 0 0 0 0 0 0 0 0 0 0 0 0 0 0 0 0 0 0 0 0]\n"
     ]
    }
   ],
   "source": [
    "print(np.count_nonzero(tx == -999, axis=0)) "
   ]
  },
  {
   "cell_type": "code",
   "execution_count": 46,
   "metadata": {},
   "outputs": [
    {
     "data": {
      "text/plain": [
       "(array([     1,      1,      1, ..., 249999, 249999, 249999]),\n",
       " array([ 4,  5,  6, ..., 26, 27, 28]))"
      ]
     },
     "execution_count": 46,
     "metadata": {},
     "output_type": "execute_result"
    }
   ],
   "source": [
    "inds"
   ]
  },
  {
   "cell_type": "code",
   "execution_count": 311,
   "metadata": {},
   "outputs": [
    {
     "data": {
      "text/plain": [
       "True"
      ]
     },
     "execution_count": 311,
     "metadata": {},
     "output_type": "execute_result"
    }
   ],
   "source": [
    "np.count_nonzero(tX == -999) > tX.shape[0]/2"
   ]
  },
  {
   "cell_type": "code",
   "execution_count": 333,
   "metadata": {
    "scrolled": true
   },
   "outputs": [
    {
     "data": {
      "text/plain": [
       "(568238, 23)"
      ]
     },
     "execution_count": 333,
     "metadata": {},
     "output_type": "execute_result"
    }
   ],
   "source": [
    "tx_test.shape"
   ]
  },
  {
   "cell_type": "code",
   "execution_count": 55,
   "metadata": {},
   "outputs": [
    {
     "name": "stdout",
     "output_type": "stream",
     "text": [
      "initial array [[1.3 2.5 3.6 nan]\n",
      " [2.6 3.3 nan 5.5]\n",
      " [2.1 3.2 nan 6.5]\n",
      " [1.  2.  nan 4. ]]\n",
      "columns median [2.  3.  4.5 6. ]\n",
      "final array [[1.3 2.5 3.6 5.5]\n",
      " [2.6 3.3 3.6 5.5]\n",
      " [2.1 3.2 3.6 6.5]\n",
      " [1.  2.  3.6 4. ]]\n"
     ]
    }
   ],
   "source": [
    "# Initialising numpy array \n",
    "ini_array = np.array([[1.3, 2.5, 3.6, np.nan],  \n",
    "                      [2.6, 3.3, np.nan, 5.5], \n",
    "                      [2.1, 3.2, np.nan, 6.5],\n",
    "                      [1.0, 2.0, np.nan, 4.0]]) \n",
    "  \n",
    "# printing initial array \n",
    "print (\"initial array\", ini_array) \n",
    "  \n",
    "# column mean \n",
    "col_median = np.nanmedian(ini_array, axis = 0) \n",
    "  \n",
    "# printing column mean \n",
    "print (\"columns median\", str(col_mean)) \n",
    "  \n",
    "# find indices where nan value is present \n",
    "inds = np.where(np.isnan(ini_array)) \n",
    "  \n",
    "# replace inds with avg of column \n",
    "ini_array[inds] = np.take(col_median, inds[1]) \n",
    "  \n",
    "# printing final array \n",
    "print (\"final array\", ini_array) "
   ]
  },
  {
   "cell_type": "code",
   "execution_count": 103,
   "metadata": {
    "scrolled": true
   },
   "outputs": [
    {
     "data": {
      "text/plain": [
       "array([ 1.124060e+02,  4.652400e+01,  7.375200e+01,  3.846750e+01,\n",
       "        2.107000e+00,  2.258850e+02, -2.440000e-01,  2.491500e+00,\n",
       "        1.231550e+01,  1.206645e+02,  1.280000e+00, -3.560000e-01,\n",
       "        4.540000e-01,  3.180400e+01, -2.300000e-02, -3.300000e-02,\n",
       "        4.051600e+01, -4.500000e-02,  8.600000e-02,  3.480200e+01,\n",
       "       -2.400000e-02,  1.797390e+02,  1.000000e+00,  6.556100e+01,\n",
       "        0.000000e+00, -3.300000e-02,  4.790200e+01, -1.000000e-02,\n",
       "       -2.000000e-03,  4.051250e+01])"
      ]
     },
     "execution_count": 103,
     "metadata": {},
     "output_type": "execute_result"
    }
   ],
   "source": [
    "col_median"
   ]
  },
  {
   "cell_type": "code",
   "execution_count": null,
   "metadata": {},
   "outputs": [],
   "source": []
  }
 ],
 "metadata": {
  "anaconda-cloud": {},
  "kernelspec": {
   "display_name": "Python 3",
   "language": "python",
   "name": "python3"
  },
  "language_info": {
   "codemirror_mode": {
    "name": "ipython",
    "version": 3
   },
   "file_extension": ".py",
   "mimetype": "text/x-python",
   "name": "python",
   "nbconvert_exporter": "python",
   "pygments_lexer": "ipython3",
   "version": "3.7.4"
  }
 },
 "nbformat": 4,
 "nbformat_minor": 1
}
