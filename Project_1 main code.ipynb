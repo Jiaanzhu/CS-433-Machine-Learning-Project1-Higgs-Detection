{
 "cells": [
  {
   "cell_type": "code",
   "execution_count": 250,
   "metadata": {
    "scrolled": true
   },
   "outputs": [
    {
     "name": "stdout",
     "output_type": "stream",
     "text": [
      "The autoreload extension is already loaded. To reload it, use:\n",
      "  %reload_ext autoreload\n"
     ]
    }
   ],
   "source": [
    "# Useful starting lines\n",
    "%matplotlib inline\n",
    "import numpy as np\n",
    "import matplotlib.pyplot as plt\n",
    "import datetime\n",
    "\n",
    "%load_ext autoreload\n",
    "%autoreload 2"
   ]
  },
  {
   "cell_type": "markdown",
   "metadata": {},
   "source": [
    "## Load the training data into feature matrix, class labels, and event ids:"
   ]
  },
  {
   "cell_type": "code",
   "execution_count": 251,
   "metadata": {
    "scrolled": true
   },
   "outputs": [],
   "source": [
    "from proj1_helpers import *\n",
    "from implementations import *\n",
    "\n",
    "# Use your own path here!\n",
    "DATA_TRAIN_PATH = '/Users/jiaanzhu/Desktop/MLProject1/train.csv' # TODO: download train data and supply path here \n",
    "y, tX, ids = load_csv_data(DATA_TRAIN_PATH)"
   ]
  },
  {
   "cell_type": "code",
   "execution_count": 252,
   "metadata": {},
   "outputs": [],
   "source": [
    "#Replace -999.0 with mean of each column\n",
    "#tx = np.where(tX != -999, tX, np.nan)  # Replace -999 with nan\n",
    "#tx = np.where(np.isnan(tx), np.ma.array(tx, mask=np.isnan(tx)).mean(axis=0), tx) \n",
    "tx = np.where(tX == -999, np.ma.array(tX, mask= (tX == -999)).mean(axis=0), tX) \n",
    "# Remove columns contain -999\n",
    "# tx = tX[:, ~np.any(tX == -999, axis=0)"
   ]
  },
  {
   "cell_type": "code",
   "execution_count": 253,
   "metadata": {},
   "outputs": [
    {
     "name": "stdout",
     "output_type": "stream",
     "text": [
      "Gradient Descent: execution time=229.447 seconds\n"
     ]
    }
   ],
   "source": [
    "# Define the parameters of the algorithm.\n",
    "max_iters = 10000\n",
    "gamma = 0.000001\n",
    "\n",
    "# Initialization\n",
    "w_initial = np.zeros(tx.shape[1])\n",
    "\n",
    "# Start gradient descent.\n",
    "start_time = datetime.datetime.now()\n",
    "gradient_losses, gradient_ws = gradient_descent(y, tx, w_initial, max_iters, gamma)\n",
    "end_time = datetime.datetime.now()\n",
    "\n",
    "# Print result\n",
    "exection_time = (end_time - start_time).total_seconds()\n",
    "print(\"Gradient Descent: execution time={t:.3f} seconds\".format(t=exection_time))\n"
   ]
  },
  {
   "cell_type": "code",
   "execution_count": 237,
   "metadata": {},
   "outputs": [
    {
     "name": "stdout",
     "output_type": "stream",
     "text": [
      "SGD: execution time=347.962 seconds\n"
     ]
    }
   ],
   "source": [
    "# Define the parameters of the algorithm.\n",
    "max_iters = 5000\n",
    "gamma = 0.00000005\n",
    "batch_size = 1\n",
    "\n",
    "# Initialization\n",
    "w_initial = np.zeros(tx.shape[1])\n",
    "\n",
    "# Start SGD.\n",
    "start_time = datetime.datetime.now()\n",
    "sgd_losses, sgd_ws = stochastic_gradient_descent(\n",
    "    y, tx, w_initial, batch_size, max_iters, gamma)\n",
    "end_time = datetime.datetime.now()\n",
    "\n",
    "# Print result\n",
    "exection_time = (end_time - start_time).total_seconds()\n",
    "print(\"SGD: execution time={t:.3f} seconds\".format(t=exection_time))\n"
   ]
  },
  {
   "cell_type": "code",
   "execution_count": 254,
   "metadata": {
    "scrolled": true
   },
   "outputs": [
    {
     "name": "stdout",
     "output_type": "stream",
     "text": [
      "[ 5.90549078e-04 -9.58116008e-03 -1.57468699e-03 -1.87386785e-05\n",
      "  2.44737085e-05  6.45748734e-04 -4.81297826e-04  3.33753197e-04\n",
      " -1.09586701e-03  3.07880833e-03 -4.82771114e-04  9.13585130e-04\n",
      "  9.82922197e-05  5.02659450e-03 -1.23013153e-05 -7.06457549e-05\n",
      "  6.17499917e-05 -1.39671849e-05  5.37096929e-05  1.89511935e-03\n",
      "  2.81289492e-05 -5.96090204e-04 -1.88086946e-04 -2.17920515e-03\n",
      "  2.22606986e-06  1.88298148e-05 -5.24419198e-03  1.62330800e-05\n",
      " -2.00593225e-05 -2.00952830e-03]\n",
      "[0.36375843674170494, 0.3637583274639752, 0.363758218216257, 0.36375810899854033, 0.3637579998108159, 0.3637578906530737, 0.36375778152530425, 0.3637576724274978, 0.3637575633596445]\n"
     ]
    }
   ],
   "source": [
    "weights_sd = gradient_ws[-1] # Weights for gd\n",
    "print(weights_sd) \n",
    "print(gradient_losses[-10:-1]) # Show changes in losses\n"
   ]
  },
  {
   "cell_type": "code",
   "execution_count": 249,
   "metadata": {},
   "outputs": [
    {
     "name": "stdout",
     "output_type": "stream",
     "text": [
      "[ 5.90549078e-04 -9.58116008e-03 -1.57468699e-03 -1.87386785e-05\n",
      "  2.44737085e-05  6.45748734e-04 -4.81297826e-04  3.33753197e-04\n",
      " -1.09586701e-03  3.07880833e-03 -4.82771114e-04  9.13585130e-04\n",
      "  9.82922197e-05  5.02659450e-03 -1.23013153e-05 -7.06457549e-05\n",
      "  6.17499917e-05 -1.39671849e-05  5.37096929e-05  1.89511935e-03\n",
      "  2.81289492e-05 -5.96090204e-04 -1.88086946e-04 -2.17920515e-03\n",
      "  2.22606986e-06  1.88298148e-05 -5.24419198e-03  1.62330800e-05\n",
      " -2.00593225e-05 -2.00952830e-03]\n",
      "[0.4078056083708234, 0.4090425079685934, 0.4084078648552148, 0.4091488751615451, 0.40847047593963726, 0.407753567657346, 0.40850189190329494, 0.40945857141931796, 0.40880194023235056]\n"
     ]
    }
   ],
   "source": [
    "weights_sgd = sgd_ws[-1] # Weights for sgd\n",
    "print(weights)\n",
    "print(sgd_losses[-10:-1]) # Show changes in losses"
   ]
  },
  {
   "cell_type": "markdown",
   "metadata": {},
   "source": [
    "## Generate predictions and save ouput in csv format for submission:"
   ]
  },
  {
   "cell_type": "code",
   "execution_count": 268,
   "metadata": {},
   "outputs": [],
   "source": [
    "# Use your own path here!\n",
    "DATA_TEST_PATH = '/Users/jiaanzhu/Desktop/MLProject1/test.csv' # TODO: download train data and supply path here \n",
    "_, tX_test, ids_test = load_csv_data(DATA_TEST_PATH)"
   ]
  },
  {
   "cell_type": "code",
   "execution_count": 269,
   "metadata": {},
   "outputs": [],
   "source": [
    "#Replace -999.0 with mean of each column\n",
    "tx_test = np.where(tX_test == -999, np.ma.array(tX, mask= (tX == -999)).mean(axis=0), tX_test) \n",
    "# Remove columns contain -999\n",
    "# tx_test = tX_test[:, ~np.any(tX_test == -999, axis=0)]"
   ]
  },
  {
   "cell_type": "code",
   "execution_count": 270,
   "metadata": {},
   "outputs": [],
   "source": [
    "# Use your own path here!\n",
    "OUTPUT_PATH = '/Users/jiaanzhu/Desktop/MLProject1/submission.csv' # TODO: fill in desired name of output file for submission\n",
    "y_pred = predict_labels(weights_sd, tx_test) # Use deifferent weights here\n",
    "create_csv_submission(ids_test, y_pred, OUTPUT_PATH)"
   ]
  },
  {
   "cell_type": "code",
   "execution_count": null,
   "metadata": {},
   "outputs": [],
   "source": [
    "'''\n",
    "Test codes below\n",
    "'''"
   ]
  },
  {
   "cell_type": "code",
   "execution_count": 202,
   "metadata": {
    "scrolled": true
   },
   "outputs": [
    {
     "name": "stdout",
     "output_type": "stream",
     "text": [
      "[ 38114      0      0      0 177457 177457 177457      0      0      0\n",
      "      0      0 177457      0      0      0      0      0      0      0\n",
      "      0      0      0  99913  99913  99913 177457 177457 177457      0]\n"
     ]
    }
   ],
   "source": [
    "print(np.count_nonzero(tx == -999, axis=0)) # Show numbers of -999.0(NaN) in every column"
   ]
  },
  {
   "cell_type": "code",
   "execution_count": 201,
   "metadata": {},
   "outputs": [
    {
     "data": {
      "text/plain": [
       "(250000, 30)"
      ]
     },
     "execution_count": 201,
     "metadata": {},
     "output_type": "execute_result"
    }
   ],
   "source": [
    "tx.shape"
   ]
  },
  {
   "cell_type": "code",
   "execution_count": 193,
   "metadata": {},
   "outputs": [],
   "source": [
    "tx = tX[:, ~np.any(tX == -999, axis=0)] # Remove columns contain -999"
   ]
  },
  {
   "cell_type": "code",
   "execution_count": 22,
   "metadata": {},
   "outputs": [
    {
     "name": "stdout",
     "output_type": "stream",
     "text": [
      "85667\n"
     ]
    }
   ],
   "source": [
    "print(np.count_nonzero(y == 1)) "
   ]
  },
  {
   "cell_type": "code",
   "execution_count": 246,
   "metadata": {},
   "outputs": [
    {
     "data": {
      "text/plain": [
       "(568238, 30)"
      ]
     },
     "execution_count": 246,
     "metadata": {},
     "output_type": "execute_result"
    }
   ],
   "source": [
    "tx_test.shape"
   ]
  },
  {
   "cell_type": "code",
   "execution_count": 261,
   "metadata": {
    "scrolled": true
   },
   "outputs": [
    {
     "name": "stdout",
     "output_type": "stream",
     "text": [
      "[0 0 0 0 0 0 0 0 0 0 0 0 0 0 0 0 0 0 0 0 0 0 0 0 0 0 0 0 0 0]\n"
     ]
    }
   ],
   "source": [
    "print(np.count_nonzero(tx_test == -999, axis=0)) "
   ]
  },
  {
   "cell_type": "code",
   "execution_count": 225,
   "metadata": {},
   "outputs": [
    {
     "data": {
      "text/plain": [
       "7500000"
      ]
     },
     "execution_count": 225,
     "metadata": {},
     "output_type": "execute_result"
    }
   ],
   "source": [
    "np.count_nonzero(tx == ty)"
   ]
  },
  {
   "cell_type": "code",
   "execution_count": 264,
   "metadata": {},
   "outputs": [
    {
     "data": {
      "text/plain": [
       "masked_array(data=[121.85852835958778, 49.23981927599984,\n",
       "                   81.18198161200014, 57.89596165599955,\n",
       "                   2.4037350261224666, 371.7833604482821,\n",
       "                   -0.8216881711536685, 2.373099843999981,\n",
       "                   18.917332443999857, 158.43221704799967,\n",
       "                   1.437609432000006, -0.12830470800000573,\n",
       "                   0.4582898005321013, 38.70741912800013,\n",
       "                   -0.010973048000000145, -0.00817107200000008,\n",
       "                   46.66020724799943, -0.019507467999999896,\n",
       "                   0.04354296400000032, 41.71723452399973,\n",
       "                   -0.010119192000000209, 209.79717763200114, 0.979176,\n",
       "                   84.82210453270471, -0.0032745874059712083,\n",
       "                   -0.012392825494546579, 57.67947442206703,\n",
       "                   -0.011845264188136697, -0.0015822891250705982,\n",
       "                   73.06459138400008],\n",
       "             mask=[False, False, False, False, False, False, False, False,\n",
       "                   False, False, False, False, False, False, False, False,\n",
       "                   False, False, False, False, False, False, False, False,\n",
       "                   False, False, False, False, False, False],\n",
       "       fill_value=1e+20)"
      ]
     },
     "execution_count": 264,
     "metadata": {},
     "output_type": "execute_result"
    }
   ],
   "source": [
    "np.ma.array(tX, mask= (tX == -999)).mean(axis=0)"
   ]
  },
  {
   "cell_type": "code",
   "execution_count": 267,
   "metadata": {},
   "outputs": [
    {
     "name": "stdout",
     "output_type": "stream",
     "text": [
      "[     0      0      0      0 402796      0      0      0      0      0\n",
      "      0      0      0      0      0      0      0      0      0      0\n",
      "      0      0      0      0      0      0      0      0      0      0]\n"
     ]
    }
   ],
   "source": [
    "print(np.count_nonzero(tx_test == 2.4037350261224666, axis=0)) "
   ]
  },
  {
   "cell_type": "code",
   "execution_count": 266,
   "metadata": {},
   "outputs": [
    {
     "name": "stdout",
     "output_type": "stream",
     "text": [
      "[ 86488      0      0      0 402796 402796 402796      0      0      0\n",
      "      0      0 402796      0      0      0      0      0      0      0\n",
      "      0      0      0 227458 227458 227458 402796 402796 402796      0]\n"
     ]
    }
   ],
   "source": [
    "print(np.count_nonzero(tX_test == -999, axis=0)) "
   ]
  },
  {
   "cell_type": "code",
   "execution_count": null,
   "metadata": {},
   "outputs": [],
   "source": []
  }
 ],
 "metadata": {
  "anaconda-cloud": {},
  "kernelspec": {
   "display_name": "Python 3",
   "language": "python",
   "name": "python3"
  },
  "language_info": {
   "codemirror_mode": {
    "name": "ipython",
    "version": 3
   },
   "file_extension": ".py",
   "mimetype": "text/x-python",
   "name": "python",
   "nbconvert_exporter": "python",
   "pygments_lexer": "ipython3",
   "version": "3.7.4"
  }
 },
 "nbformat": 4,
 "nbformat_minor": 1
}
